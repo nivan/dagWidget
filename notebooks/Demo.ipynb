{
 "cells": [
  {
   "cell_type": "code",
   "execution_count": 28,
   "id": "3987b48e",
   "metadata": {},
   "outputs": [],
   "source": [
    "import dagWidget"
   ]
  },
  {
   "cell_type": "code",
   "execution_count": 29,
   "id": "2db294c4",
   "metadata": {},
   "outputs": [
    {
     "data": {
      "application/vnd.jupyter.widget-view+json": {
       "model_id": "c909ad30495c4c799fac11435f65eb17",
       "version_major": 2,
       "version_minor": 0
      },
      "text/plain": [
       "HelloWorld()"
      ]
     },
     "metadata": {},
     "output_type": "display_data"
    }
   ],
   "source": [
    "manager = dagWidget.HelloWorld()\n",
    "manager"
   ]
  },
  {
   "cell_type": "code",
   "execution_count": 43,
   "id": "6e03613e",
   "metadata": {},
   "outputs": [],
   "source": [
    "widgets = [{'widget':{},'id':'w1','label':'w1','div':'Div1','parents':[]},\n",
    "          {'widget':{},'id':'w2','label':'w2','div':'Div2','parents':['w1']},\n",
    "          {'widget':{},'id':'w3','label':'w3','div':'Div3','parents':['w2']},\n",
    "          {'widget':{},'id':'w4','label':'w4','div':'Div4','parents':['w2']},\n",
    "          {'widget':{},'id':'w5','label':'w5','div':'Div5','parents':['w3','w4']},\n",
    "          {'widget':{},'id':'w6','label':'w6','div':'Div6','parents':['w4','w5']},\n",
    "          {'widget':{},'id':'w7','label':'w7','div':'Div7','parents':['w5']}]\n",
    "\n",
    "\n",
    "for w in widgets:\n",
    "    manager.registerWidget(w['widget'],w['label'],w['id'],w['div'],w['parents'])"
   ]
  },
  {
   "cell_type": "code",
   "execution_count": 39,
   "id": "d8778dca",
   "metadata": {},
   "outputs": [],
   "source": [
    "manager.removeNode('w3')"
   ]
  },
  {
   "cell_type": "code",
   "execution_count": 41,
   "id": "f80af296",
   "metadata": {},
   "outputs": [],
   "source": [
    "manager.clear()"
   ]
  },
  {
   "cell_type": "code",
   "execution_count": 24,
   "id": "7bb4ba85",
   "metadata": {},
   "outputs": [
    {
     "data": {
      "text/plain": [
       "False"
      ]
     },
     "execution_count": 24,
     "metadata": {},
     "output_type": "execute_result"
    }
   ],
   "source": [
    "manager.tocAvailable"
   ]
  },
  {
   "cell_type": "code",
   "execution_count": 15,
   "id": "7a00e47c",
   "metadata": {},
   "outputs": [
    {
     "data": {
      "text/plain": [
       "<traitlets.traitlets.Bool at 0x7f375c05eca0>"
      ]
     },
     "execution_count": 15,
     "metadata": {},
     "output_type": "execute_result"
    }
   ],
   "source": [
    "dagWidget.HelloWorld.tocAvailable"
   ]
  },
  {
   "cell_type": "markdown",
   "id": "c3dd9535",
   "metadata": {},
   "source": [
    "# Div1"
   ]
  },
  {
   "cell_type": "code",
   "execution_count": 31,
   "id": "bc8e0cdc",
   "metadata": {
    "scrolled": true
   },
   "outputs": [
    {
     "data": {
      "application/vnd.jupyter.widget-view+json": {
       "model_id": "ba62dbe90ddf45e7a9cd8a2980e08db9",
       "version_major": 2,
       "version_minor": 0
      },
      "text/plain": [
       "IntSlider(value=0, description='Widget1:')"
      ]
     },
     "metadata": {},
     "output_type": "display_data"
    },
    {
     "data": {
      "application/vnd.jupyter.widget-view+json": {
       "model_id": "8e6938d2615c4d589bba68c66db3654c",
       "version_major": 2,
       "version_minor": 0
      },
      "text/plain": [
       "IntSlider(value=0, description='Widget2:')"
      ]
     },
     "metadata": {},
     "output_type": "display_data"
    },
    {
     "data": {
      "application/vnd.jupyter.widget-view+json": {
       "model_id": "91317b21b4534e2d9ac250bd9cff21ab",
       "version_major": 2,
       "version_minor": 0
      },
      "text/plain": [
       "Output()"
      ]
     },
     "metadata": {},
     "output_type": "display_data"
    },
    {
     "name": "stderr",
     "output_type": "stream",
     "text": [
      "/tmp/ipykernel_62431/129501210.py:24: DeprecationWarning: on_trait_change is deprecated in traitlets 4.1: use observe instead\n",
      "  button.on_trait_change(on_button_clicked)\n",
      "/tmp/ipykernel_62431/129501210.py:25: DeprecationWarning: on_trait_change is deprecated in traitlets 4.1: use observe instead\n",
      "  attSlider.on_trait_change(on_attSlider_changed)\n"
     ]
    },
    {
     "data": {
      "application/vnd.jupyter.widget-view+json": {
       "model_id": "91317b21b4534e2d9ac250bd9cff21ab",
       "version_major": 2,
       "version_minor": 0
      },
      "text/plain": [
       "Output(_dom_classes=('testeClass',))"
      ]
     },
     "metadata": {},
     "output_type": "display_data"
    }
   ],
   "source": [
    "import ipywidgets as widgets\n",
    "button = widgets.IntSlider( value=0,description='Widget1:')\n",
    "attSlider = widgets.IntSlider( value=0,description='Widget2:')\n",
    "output = widgets.Output()\n",
    "\n",
    "display(button,attSlider, output)\n",
    "\n",
    "def on_button_clicked(b):\n",
    "    with output:\n",
    "        manager.updateSummary('w1',{'progress':button.value})\n",
    "        if button.value >= 50:              \n",
    "            manager.requestAttention('w1','widget','RESCALE_NEEDED','Nivan')\n",
    "        else:                        \n",
    "            manager.removeRequestAttention('w1','widget','RESCALE_NEEDED')\n",
    "            \n",
    "def on_attSlider_changed(b):\n",
    "    with output:\n",
    "        manager.updateSummary('w1',{'progress':attSlider.value})\n",
    "        if attSlider.value >= 50:                   \n",
    "            manager.requestAttention('w1','widget','SAFEGUARD_SATISFIED','Stability reached 0.001')\n",
    "        else:                        \n",
    "            manager.removeRequestAttention('w1','widget','SAFEGUARD_SATISFIED')            \n",
    "\n",
    "button.on_trait_change(on_button_clicked)\n",
    "attSlider.on_trait_change(on_attSlider_changed)\n",
    "output.add_class('testeClass')"
   ]
  },
  {
   "cell_type": "code",
   "execution_count": null,
   "id": "f25ae8d6",
   "metadata": {},
   "outputs": [],
   "source": []
  },
  {
   "cell_type": "markdown",
   "id": "ca6f9a66",
   "metadata": {},
   "source": [
    "# Div2"
   ]
  },
  {
   "cell_type": "code",
   "execution_count": 22,
   "id": "67e5157d",
   "metadata": {},
   "outputs": [
    {
     "data": {
      "application/vnd.jupyter.widget-view+json": {
       "model_id": "607690a2bcaf44139e7c5732544d746e",
       "version_major": 2,
       "version_minor": 0
      },
      "text/plain": [
       "IntSlider(value=0, description='Widget2:')"
      ]
     },
     "metadata": {},
     "output_type": "display_data"
    },
    {
     "data": {
      "application/vnd.jupyter.widget-view+json": {
       "model_id": "44287c2baef14eba855a35696c2d3d2d",
       "version_major": 2,
       "version_minor": 0
      },
      "text/plain": [
       "Output()"
      ]
     },
     "metadata": {},
     "output_type": "display_data"
    },
    {
     "name": "stderr",
     "output_type": "stream",
     "text": [
      "/tmp/ipykernel_62431/1577915270.py:15: DeprecationWarning: on_trait_change is deprecated in traitlets 4.1: use observe instead\n",
      "  button2.on_trait_change(on_button_clicked2)\n"
     ]
    },
    {
     "data": {
      "application/vnd.jupyter.widget-view+json": {
       "model_id": "44287c2baef14eba855a35696c2d3d2d",
       "version_major": 2,
       "version_minor": 0
      },
      "text/plain": [
       "Output(_dom_classes=('testeClass',))"
      ]
     },
     "metadata": {},
     "output_type": "display_data"
    }
   ],
   "source": [
    "import ipywidgets as widgets\n",
    "button2 = widgets.IntSlider( value=0,description='Widget2:')\n",
    "output2 = widgets.Output()\n",
    "\n",
    "display(button2, output2)\n",
    "\n",
    "def on_button_clicked2(b):\n",
    "    with output2:\n",
    "        manager.updateSummary('w2',{'progress':button2.value})\n",
    "        if button2.value >= 50:                   \n",
    "            manager.requestAttention('w2','widget','STABILITY_REACHED')\n",
    "        else:                        \n",
    "            manager.removeRequestAttention('w2','widget','STABILITY_REACHED')\n",
    "\n",
    "button2.on_trait_change(on_button_clicked2)\n",
    "output2.add_class('testeClass')\n",
    "\n",
    "\n",
    "\n",
    "\n",
    "\n",
    "\n",
    "\n",
    "\n",
    "\n",
    "\n",
    "\n",
    "\n",
    "\n"
   ]
  },
  {
   "cell_type": "markdown",
   "id": "ca761d94",
   "metadata": {},
   "source": [
    "# Div3"
   ]
  },
  {
   "cell_type": "code",
   "execution_count": 38,
   "id": "9d68ccae",
   "metadata": {},
   "outputs": [
    {
     "data": {
      "application/vnd.jupyter.widget-view+json": {
       "model_id": "10b27eece5c848239c81e4843239cfc3",
       "version_major": 2,
       "version_minor": 0
      },
      "text/plain": [
       "IntSlider(value=0, description='Widget3:')"
      ]
     },
     "metadata": {},
     "output_type": "display_data"
    },
    {
     "data": {
      "application/vnd.jupyter.widget-view+json": {
       "model_id": "51816aaba88540edac9a375bf92a8783",
       "version_major": 2,
       "version_minor": 0
      },
      "text/plain": [
       "Output()"
      ]
     },
     "metadata": {},
     "output_type": "display_data"
    },
    {
     "name": "stderr",
     "output_type": "stream",
     "text": [
      "/tmp/ipykernel_62431/3879070888.py:15: DeprecationWarning: on_trait_change is deprecated in traitlets 4.1: use observe instead\n",
      "  button3.on_trait_change(on_button_clicked3)\n"
     ]
    },
    {
     "data": {
      "application/vnd.jupyter.widget-view+json": {
       "model_id": "51816aaba88540edac9a375bf92a8783",
       "version_major": 2,
       "version_minor": 0
      },
      "text/plain": [
       "Output(_dom_classes=('testeClass',))"
      ]
     },
     "metadata": {},
     "output_type": "display_data"
    }
   ],
   "source": [
    "\n",
    "\n",
    "import ipywidgets as widgets\n",
    "button3 = widgets.IntSlider( value=0,description='Widget3:')\n",
    "output3= widgets.Output()\n",
    "\n",
    "display(button3, output3)\n",
    "\n",
    "def on_button_clicked3(b):\n",
    "    with output3:\n",
    "        manager.updateSummary('w3',{'progress':button3.value})\n",
    "        if button3.value >= 50:                   \n",
    "            manager.requestAttention('w3','widget','STABILITY_REACHED')\n",
    "        else:                        \n",
    "            manager.removeRequestAttention('w3','widget','STABILITY_REACHED')\n",
    "\n",
    "button3.on_trait_change(on_button_clicked3)\n",
    "output3.add_class('testeClass')\n",
    "\n",
    "\n",
    "\n",
    "\n",
    "\n",
    "\n",
    "\n",
    "\n",
    "\n",
    "\n",
    "\n",
    "\n",
    "\n",
    "\n",
    "\n",
    "\n",
    "\n",
    "\n",
    "\n",
    "\n",
    "\n",
    "\n",
    "\n",
    "\n",
    "\n",
    "\n",
    "\n",
    "\n",
    "\n",
    "\n",
    "\n",
    "\n",
    "\n",
    "\n"
   ]
  },
  {
   "cell_type": "markdown",
   "id": "0cfe9206",
   "metadata": {},
   "source": [
    "# Div4"
   ]
  },
  {
   "cell_type": "code",
   "execution_count": 47,
   "id": "ca13bf75",
   "metadata": {},
   "outputs": [
    {
     "data": {
      "application/vnd.jupyter.widget-view+json": {
       "model_id": "2e6e3f45aa524a8086218586a3a22f00",
       "version_major": 2,
       "version_minor": 0
      },
      "text/plain": [
       "IntSlider(value=0, description='Widget4:')"
      ]
     },
     "metadata": {},
     "output_type": "display_data"
    },
    {
     "data": {
      "application/vnd.jupyter.widget-view+json": {
       "model_id": "f2fea01e162e4e768ab284dde115fc80",
       "version_major": 2,
       "version_minor": 0
      },
      "text/plain": [
       "Output()"
      ]
     },
     "metadata": {},
     "output_type": "display_data"
    },
    {
     "name": "stderr",
     "output_type": "stream",
     "text": [
      "/tmp/ipykernel_17861/30750829.py:15: DeprecationWarning: on_trait_change is deprecated in traitlets 4.1: use observe instead\n",
      "  button4.on_trait_change(on_button_clicked4)\n"
     ]
    },
    {
     "data": {
      "application/vnd.jupyter.widget-view+json": {
       "model_id": "f2fea01e162e4e768ab284dde115fc80",
       "version_major": 2,
       "version_minor": 0
      },
      "text/plain": [
       "Output(_dom_classes=('testeClass',))"
      ]
     },
     "metadata": {},
     "output_type": "display_data"
    }
   ],
   "source": [
    "import ipywidgets as widgets\n",
    "button4 = widgets.IntSlider( value=0,description='Widget4:')\n",
    "output4 = widgets.Output()\n",
    "\n",
    "display(button4, output4)\n",
    "\n",
    "def on_button_clicked4(b):\n",
    "    with output4:\n",
    "        manager.updateSummary('w4',{'progress':button4.value})\n",
    "        if button4.value >= 50:                   \n",
    "            manager.requestAttention('w4','widget','STABILITY_REACHED')\n",
    "        else:                        \n",
    "            manager.removeRequestAttention('w4','STABILITY_REACHED')\n",
    "\n",
    "button4.on_trait_change(on_button_clicked4)\n",
    "output4.add_class('testeClass')\n",
    "\n",
    "\n",
    "\n",
    "\n",
    "\n",
    "\n",
    "\n",
    "\n",
    "\n",
    "\n",
    "\n",
    "\n",
    "\n",
    "\n",
    "\n",
    "\n",
    "\n",
    "\n",
    "\n",
    "\n",
    "\n",
    "\n"
   ]
  },
  {
   "cell_type": "markdown",
   "id": "0522ffb5",
   "metadata": {},
   "source": [
    "# Div5"
   ]
  },
  {
   "cell_type": "code",
   "execution_count": 7,
   "id": "f08c22f9",
   "metadata": {},
   "outputs": [
    {
     "name": "stdout",
     "output_type": "stream",
     "text": [
      "a\n"
     ]
    }
   ],
   "source": [
    "\n",
    "\n",
    "\n",
    "\n",
    "\n",
    "\n",
    "\n",
    "\n",
    "\n",
    "\n",
    "\n",
    "\n",
    "\n",
    "\n",
    "\n",
    "\n",
    "\n",
    "\n",
    "print('a')\n",
    "\n",
    "\n",
    "\n",
    "\n",
    "\n",
    "\n",
    "\n",
    "\n",
    "\n",
    "\n",
    "\n",
    "\n",
    "\n",
    "\n",
    "\n",
    "\n",
    "\n",
    "\n",
    "\n",
    "\n",
    "\n",
    "\n",
    "\n",
    "\n",
    "\n",
    "\n",
    "\n",
    "\n",
    "\n",
    "\n",
    "\n",
    "\n",
    "\n",
    "\n",
    "\n",
    "\n",
    "\n",
    "\n",
    "\n",
    "\n",
    "\n",
    "\n",
    "\n",
    "\n",
    "\n"
   ]
  },
  {
   "cell_type": "code",
   "execution_count": 36,
   "id": "3d9f8c46",
   "metadata": {},
   "outputs": [],
   "source": [
    "x = [{'entityType':0,'widgetID':'a','type':'b'}]"
   ]
  },
  {
   "cell_type": "code",
   "execution_count": 35,
   "id": "328d26c1",
   "metadata": {},
   "outputs": [
    {
     "ename": "ValueError",
     "evalue": "list.remove(x): x not in list",
     "output_type": "error",
     "traceback": [
      "\u001b[0;31m---------------------------------------------------------------------------\u001b[0m",
      "\u001b[0;31mValueError\u001b[0m                                Traceback (most recent call last)",
      "Cell \u001b[0;32mIn [35], line 1\u001b[0m\n\u001b[0;32m----> 1\u001b[0m \u001b[43mx\u001b[49m\u001b[38;5;241;43m.\u001b[39;49m\u001b[43mremove\u001b[49m\u001b[43m(\u001b[49m\u001b[43m{\u001b[49m\u001b[38;5;124;43m'\u001b[39;49m\u001b[38;5;124;43mentityType\u001b[39;49m\u001b[38;5;124;43m'\u001b[39;49m\u001b[43m:\u001b[49m\u001b[38;5;241;43m0\u001b[39;49m\u001b[43m,\u001b[49m\u001b[38;5;124;43m'\u001b[39;49m\u001b[38;5;124;43mwidgetID\u001b[39;49m\u001b[38;5;124;43m'\u001b[39;49m\u001b[43m:\u001b[49m\u001b[38;5;124;43m'\u001b[39;49m\u001b[38;5;124;43ma\u001b[39;49m\u001b[38;5;124;43m'\u001b[39;49m\u001b[43m,\u001b[49m\u001b[38;5;124;43m'\u001b[39;49m\u001b[38;5;124;43mtype\u001b[39;49m\u001b[38;5;124;43m'\u001b[39;49m\u001b[43m:\u001b[49m\u001b[38;5;124;43m'\u001b[39;49m\u001b[38;5;124;43mb\u001b[39;49m\u001b[38;5;124;43m'\u001b[39;49m\u001b[43m}\u001b[49m\u001b[43m)\u001b[49m\n",
      "\u001b[0;31mValueError\u001b[0m: list.remove(x): x not in list"
     ]
    }
   ],
   "source": [
    "x.remove({'entityType':0,'widgetID':'a','type':'b'})"
   ]
  },
  {
   "cell_type": "code",
   "execution_count": 37,
   "id": "f097c7f3",
   "metadata": {},
   "outputs": [
    {
     "data": {
      "text/plain": [
       "0"
      ]
     },
     "execution_count": 37,
     "metadata": {},
     "output_type": "execute_result"
    }
   ],
   "source": [
    "x.index({'entityType':0,'widgetID':'a','type':'b'})"
   ]
  },
  {
   "cell_type": "code",
   "execution_count": null,
   "id": "edec17a5",
   "metadata": {},
   "outputs": [],
   "source": []
  }
 ],
 "metadata": {
  "finalized": {
   "timestamp": 1662984054142,
   "trusted": false
  },
  "kernelspec": {
   "display_name": "Python 3 (ipykernel)",
   "language": "python",
   "name": "python3"
  },
  "language_info": {
   "codemirror_mode": {
    "name": "ipython",
    "version": 3
   },
   "file_extension": ".py",
   "mimetype": "text/x-python",
   "name": "python",
   "nbconvert_exporter": "python",
   "pygments_lexer": "ipython3",
   "version": "3.9.12"
  },
  "toc": {
   "base_numbering": 1,
   "nav_menu": {},
   "number_sections": true,
   "sideBar": true,
   "skip_h1_title": false,
   "title_cell": "Table of Contents",
   "title_sidebar": "Contents",
   "toc_cell": true,
   "toc_position": {
    "height": "998px",
    "left": "22px",
    "top": "111.125px",
    "width": "387.188px"
   },
   "toc_section_display": true,
   "toc_window_display": true
  }
 },
 "nbformat": 4,
 "nbformat_minor": 5
}
